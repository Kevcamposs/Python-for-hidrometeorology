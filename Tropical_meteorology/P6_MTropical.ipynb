{
  "nbformat": 4,
  "nbformat_minor": 0,
  "metadata": {
    "colab": {
      "provenance": []
    },
    "kernelspec": {
      "name": "python3",
      "display_name": "Python 3"
    },
    "language_info": {
      "name": "python"
    }
  },
  "cells": [
    {
      "cell_type": "markdown",
      "source": [
        "<font size = 6 color = 'green'> Empirical Orthogonal Function\n",
        "\n",
        "<font size = 4> Autor original: Ing. Manuel Figueroa Culqui (docente del curso \"METEOROLOGÍA TROPICAL\" - UNALM)\n",
        "\n",
        "<font size = 4> Modificado por: Est. Kevin Campos Sánchez"
      ],
      "metadata": {
        "id": "XpYFrkkAfIEO"
      }
    },
    {
      "cell_type": "code",
      "execution_count": null,
      "metadata": {
        "colab": {
          "base_uri": "https://localhost:8080/"
        },
        "id": "4exaNNHl-dAH",
        "outputId": "817f6c60-ad72-4e36-bf2f-488c5d271805"
      },
      "outputs": [
        {
          "output_type": "stream",
          "name": "stdout",
          "text": [
            "Mounted at /content/drive/\n"
          ]
        }
      ],
      "source": [
        "##### CONFIGURACIÓN DE ENTORNO #####\n",
        "import numpy as np, matplotlib.pyplot as plt, xarray as xr, seaborn as sns, pandas as pd, os, sys\n",
        "from google.colab import drive        # Conectar Google drive\n",
        "drive.mount('/content/drive/')\n",
        "\n",
        "path = '/content/drive/MyDrive/Trabajos_UNALM/M. Tropical/P6_MTropical/'      # Directorio de trabajo\n",
        "os.chdir(path)         # Seleccionar carpeta de trabajo"
      ]
    },
    {
      "cell_type": "markdown",
      "source": [
        "###<font size = 4 color = 'green'> Ejercicio 1\n",
        "Se tienen 10 años de promedios anuales de temperatura del aire de 4 estaciones meteorólógicas ubicadas una zona ”X”, comprenden las zonas Nor Oeste (NO), Sur Oeste(SO), Nor Este (NE) y Sur Este.\n"
      ],
      "metadata": {
        "id": "9MvTF3m5VCnd"
      }
    },
    {
      "cell_type": "code",
      "source": [
        "T1 = [10,14,14,14,10,10,14,10,14,10]\n",
        "T2 = [13,17,17,19,18,19,12,14,16,17]\n",
        "T3 = [18,16,16,15,15,16,20,19,18,15]\n",
        "T4 = [15,18,18,18,16,16,14,14,15,15]\n",
        "\n",
        "T = pd.DataFrame({'NO':T1,'NE':T2,'SO':T3,'SE':T4}, index = range(1,10+1))\n",
        "T"
      ],
      "metadata": {
        "colab": {
          "base_uri": "https://localhost:8080/",
          "height": 363
        },
        "id": "rrFajCvuU3Cv",
        "outputId": "dc298a10-d33d-416a-e92d-f7e6c791e9e9"
      },
      "execution_count": null,
      "outputs": [
        {
          "output_type": "execute_result",
          "data": {
            "text/plain": [
              "    NO  NE  SO  SE\n",
              "1   10  13  18  15\n",
              "2   14  17  16  18\n",
              "3   14  17  16  18\n",
              "4   14  19  15  18\n",
              "5   10  18  15  16\n",
              "6   10  19  16  16\n",
              "7   14  12  20  14\n",
              "8   10  14  19  14\n",
              "9   14  16  18  15\n",
              "10  10  17  15  15"
            ],
            "text/html": [
              "\n",
              "  <div id=\"df-66a3adc3-a119-43a1-8821-b4900d6c9ec3\">\n",
              "    <div class=\"colab-df-container\">\n",
              "      <div>\n",
              "<style scoped>\n",
              "    .dataframe tbody tr th:only-of-type {\n",
              "        vertical-align: middle;\n",
              "    }\n",
              "\n",
              "    .dataframe tbody tr th {\n",
              "        vertical-align: top;\n",
              "    }\n",
              "\n",
              "    .dataframe thead th {\n",
              "        text-align: right;\n",
              "    }\n",
              "</style>\n",
              "<table border=\"1\" class=\"dataframe\">\n",
              "  <thead>\n",
              "    <tr style=\"text-align: right;\">\n",
              "      <th></th>\n",
              "      <th>NO</th>\n",
              "      <th>NE</th>\n",
              "      <th>SO</th>\n",
              "      <th>SE</th>\n",
              "    </tr>\n",
              "  </thead>\n",
              "  <tbody>\n",
              "    <tr>\n",
              "      <th>1</th>\n",
              "      <td>10</td>\n",
              "      <td>13</td>\n",
              "      <td>18</td>\n",
              "      <td>15</td>\n",
              "    </tr>\n",
              "    <tr>\n",
              "      <th>2</th>\n",
              "      <td>14</td>\n",
              "      <td>17</td>\n",
              "      <td>16</td>\n",
              "      <td>18</td>\n",
              "    </tr>\n",
              "    <tr>\n",
              "      <th>3</th>\n",
              "      <td>14</td>\n",
              "      <td>17</td>\n",
              "      <td>16</td>\n",
              "      <td>18</td>\n",
              "    </tr>\n",
              "    <tr>\n",
              "      <th>4</th>\n",
              "      <td>14</td>\n",
              "      <td>19</td>\n",
              "      <td>15</td>\n",
              "      <td>18</td>\n",
              "    </tr>\n",
              "    <tr>\n",
              "      <th>5</th>\n",
              "      <td>10</td>\n",
              "      <td>18</td>\n",
              "      <td>15</td>\n",
              "      <td>16</td>\n",
              "    </tr>\n",
              "    <tr>\n",
              "      <th>6</th>\n",
              "      <td>10</td>\n",
              "      <td>19</td>\n",
              "      <td>16</td>\n",
              "      <td>16</td>\n",
              "    </tr>\n",
              "    <tr>\n",
              "      <th>7</th>\n",
              "      <td>14</td>\n",
              "      <td>12</td>\n",
              "      <td>20</td>\n",
              "      <td>14</td>\n",
              "    </tr>\n",
              "    <tr>\n",
              "      <th>8</th>\n",
              "      <td>10</td>\n",
              "      <td>14</td>\n",
              "      <td>19</td>\n",
              "      <td>14</td>\n",
              "    </tr>\n",
              "    <tr>\n",
              "      <th>9</th>\n",
              "      <td>14</td>\n",
              "      <td>16</td>\n",
              "      <td>18</td>\n",
              "      <td>15</td>\n",
              "    </tr>\n",
              "    <tr>\n",
              "      <th>10</th>\n",
              "      <td>10</td>\n",
              "      <td>17</td>\n",
              "      <td>15</td>\n",
              "      <td>15</td>\n",
              "    </tr>\n",
              "  </tbody>\n",
              "</table>\n",
              "</div>\n",
              "      <button class=\"colab-df-convert\" onclick=\"convertToInteractive('df-66a3adc3-a119-43a1-8821-b4900d6c9ec3')\"\n",
              "              title=\"Convert this dataframe to an interactive table.\"\n",
              "              style=\"display:none;\">\n",
              "        \n",
              "  <svg xmlns=\"http://www.w3.org/2000/svg\" height=\"24px\"viewBox=\"0 0 24 24\"\n",
              "       width=\"24px\">\n",
              "    <path d=\"M0 0h24v24H0V0z\" fill=\"none\"/>\n",
              "    <path d=\"M18.56 5.44l.94 2.06.94-2.06 2.06-.94-2.06-.94-.94-2.06-.94 2.06-2.06.94zm-11 1L8.5 8.5l.94-2.06 2.06-.94-2.06-.94L8.5 2.5l-.94 2.06-2.06.94zm10 10l.94 2.06.94-2.06 2.06-.94-2.06-.94-.94-2.06-.94 2.06-2.06.94z\"/><path d=\"M17.41 7.96l-1.37-1.37c-.4-.4-.92-.59-1.43-.59-.52 0-1.04.2-1.43.59L10.3 9.45l-7.72 7.72c-.78.78-.78 2.05 0 2.83L4 21.41c.39.39.9.59 1.41.59.51 0 1.02-.2 1.41-.59l7.78-7.78 2.81-2.81c.8-.78.8-2.07 0-2.86zM5.41 20L4 18.59l7.72-7.72 1.47 1.35L5.41 20z\"/>\n",
              "  </svg>\n",
              "      </button>\n",
              "      \n",
              "  <style>\n",
              "    .colab-df-container {\n",
              "      display:flex;\n",
              "      flex-wrap:wrap;\n",
              "      gap: 12px;\n",
              "    }\n",
              "\n",
              "    .colab-df-convert {\n",
              "      background-color: #E8F0FE;\n",
              "      border: none;\n",
              "      border-radius: 50%;\n",
              "      cursor: pointer;\n",
              "      display: none;\n",
              "      fill: #1967D2;\n",
              "      height: 32px;\n",
              "      padding: 0 0 0 0;\n",
              "      width: 32px;\n",
              "    }\n",
              "\n",
              "    .colab-df-convert:hover {\n",
              "      background-color: #E2EBFA;\n",
              "      box-shadow: 0px 1px 2px rgba(60, 64, 67, 0.3), 0px 1px 3px 1px rgba(60, 64, 67, 0.15);\n",
              "      fill: #174EA6;\n",
              "    }\n",
              "\n",
              "    [theme=dark] .colab-df-convert {\n",
              "      background-color: #3B4455;\n",
              "      fill: #D2E3FC;\n",
              "    }\n",
              "\n",
              "    [theme=dark] .colab-df-convert:hover {\n",
              "      background-color: #434B5C;\n",
              "      box-shadow: 0px 1px 3px 1px rgba(0, 0, 0, 0.15);\n",
              "      filter: drop-shadow(0px 1px 2px rgba(0, 0, 0, 0.3));\n",
              "      fill: #FFFFFF;\n",
              "    }\n",
              "  </style>\n",
              "\n",
              "      <script>\n",
              "        const buttonEl =\n",
              "          document.querySelector('#df-66a3adc3-a119-43a1-8821-b4900d6c9ec3 button.colab-df-convert');\n",
              "        buttonEl.style.display =\n",
              "          google.colab.kernel.accessAllowed ? 'block' : 'none';\n",
              "\n",
              "        async function convertToInteractive(key) {\n",
              "          const element = document.querySelector('#df-66a3adc3-a119-43a1-8821-b4900d6c9ec3');\n",
              "          const dataTable =\n",
              "            await google.colab.kernel.invokeFunction('convertToInteractive',\n",
              "                                                     [key], {});\n",
              "          if (!dataTable) return;\n",
              "\n",
              "          const docLinkHtml = 'Like what you see? Visit the ' +\n",
              "            '<a target=\"_blank\" href=https://colab.research.google.com/notebooks/data_table.ipynb>data table notebook</a>'\n",
              "            + ' to learn more about interactive tables.';\n",
              "          element.innerHTML = '';\n",
              "          dataTable['output_type'] = 'display_data';\n",
              "          await google.colab.output.renderOutput(dataTable, element);\n",
              "          const docLink = document.createElement('div');\n",
              "          docLink.innerHTML = docLinkHtml;\n",
              "          element.appendChild(docLink);\n",
              "        }\n",
              "      </script>\n",
              "    </div>\n",
              "  </div>\n",
              "  "
            ]
          },
          "metadata": {},
          "execution_count": 3
        }
      ]
    },
    {
      "cell_type": "markdown",
      "source": [
        "1. Grafique las series de tiempo de las 4 estaciones"
      ],
      "metadata": {
        "id": "UVs2Kqz_XOV-"
      }
    },
    {
      "cell_type": "code",
      "source": [
        "fig, ax = plt.subplots(figsize = (16,4))\n",
        "T.plot(ax = ax, style = 'o-', xticks = range(1,10+1), ylim = (8,22))\n",
        "ax.set_ylabel('Temperatura [°C]', fontsize = 18)\n",
        "ax.yaxis.grid(ls = '--', lw = 1, color = '#BBBBBB', zorder = 1)\n",
        "ax.xaxis.grid(ls = '--', lw = 0.5, color = '#BBBBBB', zorder = 1)\n",
        "ax.tick_params('both', length = 7, width = 1.25, labelsize = 18)\n",
        "\n",
        "sns.move_legend(ax, loc='upper right')\n",
        "plt.legend(ncol=4)\n",
        "plt.setp(ax.get_legend().get_texts(), fontsize='18')\n",
        "\n",
        "plt.subplots_adjust(bottom = 0.1, top = 0.9, left = 0.1, right = 0.9, wspace = 0., hspace = 0.)\n",
        "\n",
        "fig.savefig(path + 'E1_T Lineplot.png', transparent = False, \n",
        "            pad_inches = 0.1, dpi = 400, bbox_inches = 'tight')"
      ],
      "metadata": {
        "colab": {
          "base_uri": "https://localhost:8080/",
          "height": 235
        },
        "id": "Rv9mBSRBY_mT",
        "outputId": "d8533b75-6312-4998-bb1f-02aeae701bc0"
      },
      "execution_count": null,
      "outputs": [
        {
          "output_type": "display_data",
          "data": {
            "text/plain": [
              "<Figure size 1152x288 with 1 Axes>"
            ],
            "image/png": "[encoded data removed]"
          },
          "metadata": {
            "needs_background": "light"
          }
        }
      ]
    },
    {
      "cell_type": "markdown",
      "source": [
        "2. Calcule las anomalías de temperatura:   $𝑇′𝑖 = 𝑇𝑖 − 𝑇_{avg}$"
      ],
      "metadata": {
        "id": "4qiO1j2PXSXB"
      }
    },
    {
      "cell_type": "code",
      "source": [
        "Tavg = T.mean(axis = 0).to_frame().T\n",
        "\n",
        "# Nota: aprovechamos el broascasting de los arrays para \n",
        "#       calcular las anomalías en todas las filas\n",
        "Tanom = T.values - Tavg.values      # Anomalías como numpy.array\n",
        "\n",
        "Tanom_df = pd.DataFrame(Tanom, index = T.index, columns = T.columns)\n",
        "Tanom_df    # Anomalías como pandas.DataFrame"
      ],
      "metadata": {
        "colab": {
          "base_uri": "https://localhost:8080/",
          "height": 363
        },
        "id": "JIQem6mWeK6I",
        "outputId": "8fdb8b20-cb65-4ab6-d776-34044979b2cd"
      },
      "execution_count": null,
      "outputs": [
        {
          "output_type": "execute_result",
          "data": {
            "text/plain": [
              "     NO   NE   SO   SE\n",
              "1  -2.0 -3.2  1.2 -0.9\n",
              "2   2.0  0.8 -0.8  2.1\n",
              "3   2.0  0.8 -0.8  2.1\n",
              "4   2.0  2.8 -1.8  2.1\n",
              "5  -2.0  1.8 -1.8  0.1\n",
              "6  -2.0  2.8 -0.8  0.1\n",
              "7   2.0 -4.2  3.2 -1.9\n",
              "8  -2.0 -2.2  2.2 -1.9\n",
              "9   2.0 -0.2  1.2 -0.9\n",
              "10 -2.0  0.8 -1.8 -0.9"
            ],
            "text/html": [
              "\n",
              "  <div id=\"df-087ca1a3-5bf5-4611-b96a-c9a8391bd7d8\">\n",
              "    <div class=\"colab-df-container\">\n",
              "      <div>\n",
              "<style scoped>\n",
              "    .dataframe tbody tr th:only-of-type {\n",
              "        vertical-align: middle;\n",
              "    }\n",
              "\n",
              "    .dataframe tbody tr th {\n",
              "        vertical-align: top;\n",
              "    }\n",
              "\n",
              "    .dataframe thead th {\n",
              "        text-align: right;\n",
              "    }\n",
              "</style>\n",
              "<table border=\"1\" class=\"dataframe\">\n",
              "  <thead>\n",
              "    <tr style=\"text-align: right;\">\n",
              "      <th></th>\n",
              "      <th>NO</th>\n",
              "      <th>NE</th>\n",
              "      <th>SO</th>\n",
              "      <th>SE</th>\n",
              "    </tr>\n",
              "  </thead>\n",
              "  <tbody>\n",
              "    <tr>\n",
              "      <th>1</th>\n",
              "      <td>-2.0</td>\n",
              "      <td>-3.2</td>\n",
              "      <td>1.2</td>\n",
              "      <td>-0.9</td>\n",
              "    </tr>\n",
              "    <tr>\n",
              "      <th>2</th>\n",
              "      <td>2.0</td>\n",
              "      <td>0.8</td>\n",
              "      <td>-0.8</td>\n",
              "      <td>2.1</td>\n",
              "    </tr>\n",
              "    <tr>\n",
              "      <th>3</th>\n",
              "      <td>2.0</td>\n",
              "      <td>0.8</td>\n",
              "      <td>-0.8</td>\n",
              "      <td>2.1</td>\n",
              "    </tr>\n",
              "    <tr>\n",
              "      <th>4</th>\n",
              "      <td>2.0</td>\n",
              "      <td>2.8</td>\n",
              "      <td>-1.8</td>\n",
              "      <td>2.1</td>\n",
              "    </tr>\n",
              "    <tr>\n",
              "      <th>5</th>\n",
              "      <td>-2.0</td>\n",
              "      <td>1.8</td>\n",
              "      <td>-1.8</td>\n",
              "      <td>0.1</td>\n",
              "    </tr>\n",
              "    <tr>\n",
              "      <th>6</th>\n",
              "      <td>-2.0</td>\n",
              "      <td>2.8</td>\n",
              "      <td>-0.8</td>\n",
              "      <td>0.1</td>\n",
              "    </tr>\n",
              "    <tr>\n",
              "      <th>7</th>\n",
              "      <td>2.0</td>\n",
              "      <td>-4.2</td>\n",
              "      <td>3.2</td>\n",
              "      <td>-1.9</td>\n",
              "    </tr>\n",
              "    <tr>\n",
              "      <th>8</th>\n",
              "      <td>-2.0</td>\n",
              "      <td>-2.2</td>\n",
              "      <td>2.2</td>\n",
              "      <td>-1.9</td>\n",
              "    </tr>\n",
              "    <tr>\n",
              "      <th>9</th>\n",
              "      <td>2.0</td>\n",
              "      <td>-0.2</td>\n",
              "      <td>1.2</td>\n",
              "      <td>-0.9</td>\n",
              "    </tr>\n",
              "    <tr>\n",
              "      <th>10</th>\n",
              "      <td>-2.0</td>\n",
              "      <td>0.8</td>\n",
              "      <td>-1.8</td>\n",
              "      <td>-0.9</td>\n",
              "    </tr>\n",
              "  </tbody>\n",
              "</table>\n",
              "</div>\n",
              "      <button class=\"colab-df-convert\" onclick=\"convertToInteractive('df-087ca1a3-5bf5-4611-b96a-c9a8391bd7d8')\"\n",
              "              title=\"Convert this dataframe to an interactive table.\"\n",
              "              style=\"display:none;\">\n",
              "        \n",
              "  <svg xmlns=\"http://www.w3.org/2000/svg\" height=\"24px\"viewBox=\"0 0 24 24\"\n",
              "       width=\"24px\">\n",
              "    <path d=\"M0 0h24v24H0V0z\" fill=\"none\"/>\n",
              "    <path d=\"M18.56 5.44l.94 2.06.94-2.06 2.06-.94-2.06-.94-.94-2.06-.94 2.06-2.06.94zm-11 1L8.5 8.5l.94-2.06 2.06-.94-2.06-.94L8.5 2.5l-.94 2.06-2.06.94zm10 10l.94 2.06.94-2.06 2.06-.94-2.06-.94-.94-2.06-.94 2.06-2.06.94z\"/><path d=\"M17.41 7.96l-1.37-1.37c-.4-.4-.92-.59-1.43-.59-.52 0-1.04.2-1.43.59L10.3 9.45l-7.72 7.72c-.78.78-.78 2.05 0 2.83L4 21.41c.39.39.9.59 1.41.59.51 0 1.02-.2 1.41-.59l7.78-7.78 2.81-2.81c.8-.78.8-2.07 0-2.86zM5.41 20L4 18.59l7.72-7.72 1.47 1.35L5.41 20z\"/>\n",
              "  </svg>\n",
              "      </button>\n",
              "      \n",
              "  <style>\n",
              "    .colab-df-container {\n",
              "      display:flex;\n",
              "      flex-wrap:wrap;\n",
              "      gap: 12px;\n",
              "    }\n",
              "\n",
              "    .colab-df-convert {\n",
              "      background-color: #E8F0FE;\n",
              "      border: none;\n",
              "      border-radius: 50%;\n",
              "      cursor: pointer;\n",
              "      display: none;\n",
              "      fill: #1967D2;\n",
              "      height: 32px;\n",
              "      padding: 0 0 0 0;\n",
              "      width: 32px;\n",
              "    }\n",
              "\n",
              "    .colab-df-convert:hover {\n",
              "      background-color: #E2EBFA;\n",
              "      box-shadow: 0px 1px 2px rgba(60, 64, 67, 0.3), 0px 1px 3px 1px rgba(60, 64, 67, 0.15);\n",
              "      fill: #174EA6;\n",
              "    }\n",
              "\n",
              "    [theme=dark] .colab-df-convert {\n",
              "      background-color: #3B4455;\n",
              "      fill: #D2E3FC;\n",
              "    }\n",
              "\n",
              "    [theme=dark] .colab-df-convert:hover {\n",
              "      background-color: #434B5C;\n",
              "      box-shadow: 0px 1px 3px 1px rgba(0, 0, 0, 0.15);\n",
              "      filter: drop-shadow(0px 1px 2px rgba(0, 0, 0, 0.3));\n",
              "      fill: #FFFFFF;\n",
              "    }\n",
              "  </style>\n",
              "\n",
              "      <script>\n",
              "        const buttonEl =\n",
              "          document.querySelector('#df-087ca1a3-5bf5-4611-b96a-c9a8391bd7d8 button.colab-df-convert');\n",
              "        buttonEl.style.display =\n",
              "          google.colab.kernel.accessAllowed ? 'block' : 'none';\n",
              "\n",
              "        async function convertToInteractive(key) {\n",
              "          const element = document.querySelector('#df-087ca1a3-5bf5-4611-b96a-c9a8391bd7d8');\n",
              "          const dataTable =\n",
              "            await google.colab.kernel.invokeFunction('convertToInteractive',\n",
              "                                                     [key], {});\n",
              "          if (!dataTable) return;\n",
              "\n",
              "          const docLinkHtml = 'Like what you see? Visit the ' +\n",
              "            '<a target=\"_blank\" href=https://colab.research.google.com/notebooks/data_table.ipynb>data table notebook</a>'\n",
              "            + ' to learn more about interactive tables.';\n",
              "          element.innerHTML = '';\n",
              "          dataTable['output_type'] = 'display_data';\n",
              "          await google.colab.output.renderOutput(dataTable, element);\n",
              "          const docLink = document.createElement('div');\n",
              "          docLink.innerHTML = docLinkHtml;\n",
              "          element.appendChild(docLink);\n",
              "        }\n",
              "      </script>\n",
              "    </div>\n",
              "  </div>\n",
              "  "
            ]
          },
          "metadata": {},
          "execution_count": 5
        }
      ]
    },
    {
      "cell_type": "markdown",
      "source": [
        "3. Calcule la matriz de covarianza de las anomalías y determine la varianza total de los datos (traza de la matriz de covarianza)\n"
      ],
      "metadata": {
        "id": "zJ1MXsqvXbn7"
      }
    },
    {
      "cell_type": "code",
      "source": [
        "def Covar(Array):\n",
        "    N,M = Array.shape\n",
        "    cov = np.zeros(shape = (M,M))\n",
        "\n",
        "    for i in range(M):\n",
        "        for j in range(M):\n",
        "            cov[i,j] = (1/N) * np.sum(Array[:,i] * Array[:,j])\n",
        "    return cov\n",
        "MC = Covar(Tanom)\n",
        "MC"
      ],
      "metadata": {
        "colab": {
          "base_uri": "https://localhost:8080/"
        },
        "id": "3nEQQgSTfLz0",
        "outputId": "2ee9dfe8-8998-4d38-fa0d-87be0809b5d6"
      },
      "execution_count": null,
      "outputs": [
        {
          "output_type": "execute_result",
          "data": {
            "text/plain": [
              "array([[ 4.  ,  0.  ,  0.4 ,  1.4 ],\n",
              "       [ 0.  ,  5.36, -3.56,  2.42],\n",
              "       [ 0.4 , -3.56,  2.96, -1.82],\n",
              "       [ 1.4 ,  2.42, -1.82,  2.29]])"
            ]
          },
          "metadata": {},
          "execution_count": 6
        }
      ]
    },
    {
      "cell_type": "code",
      "source": [
        "# Mismo resultado si usaramos:\n",
        "Tanom_df.cov(ddof = 0)"
      ],
      "metadata": {
        "colab": {
          "base_uri": "https://localhost:8080/",
          "height": 175
        },
        "id": "WKKXNbC2hCd_",
        "outputId": "2a2a7263-b43b-4484-c736-90a5f60703a7"
      },
      "execution_count": null,
      "outputs": [
        {
          "output_type": "execute_result",
          "data": {
            "text/plain": [
              "     NO    NE    SO    SE\n",
              "NO  4.0  0.00  0.40  1.40\n",
              "NE  0.0  5.36 -3.56  2.42\n",
              "SO  0.4 -3.56  2.96 -1.82\n",
              "SE  1.4  2.42 -1.82  2.29"
            ],
            "text/html": [
              "\n",
              "  <div id=\"df-470b5217-9e33-4a27-86cb-9f2df9deaca0\">\n",
              "    <div class=\"colab-df-container\">\n",
              "      <div>\n",
              "<style scoped>\n",
              "    .dataframe tbody tr th:only-of-type {\n",
              "        vertical-align: middle;\n",
              "    }\n",
              "\n",
              "    .dataframe tbody tr th {\n",
              "        vertical-align: top;\n",
              "    }\n",
              "\n",
              "    .dataframe thead th {\n",
              "        text-align: right;\n",
              "    }\n",
              "</style>\n",
              "<table border=\"1\" class=\"dataframe\">\n",
              "  <thead>\n",
              "    <tr style=\"text-align: right;\">\n",
              "      <th></th>\n",
              "      <th>NO</th>\n",
              "      <th>NE</th>\n",
              "      <th>SO</th>\n",
              "      <th>SE</th>\n",
              "    </tr>\n",
              "  </thead>\n",
              "  <tbody>\n",
              "    <tr>\n",
              "      <th>NO</th>\n",
              "      <td>4.0</td>\n",
              "      <td>0.00</td>\n",
              "      <td>0.40</td>\n",
              "      <td>1.40</td>\n",
              "    </tr>\n",
              "    <tr>\n",
              "      <th>NE</th>\n",
              "      <td>0.0</td>\n",
              "      <td>5.36</td>\n",
              "      <td>-3.56</td>\n",
              "      <td>2.42</td>\n",
              "    </tr>\n",
              "    <tr>\n",
              "      <th>SO</th>\n",
              "      <td>0.4</td>\n",
              "      <td>-3.56</td>\n",
              "      <td>2.96</td>\n",
              "      <td>-1.82</td>\n",
              "    </tr>\n",
              "    <tr>\n",
              "      <th>SE</th>\n",
              "      <td>1.4</td>\n",
              "      <td>2.42</td>\n",
              "      <td>-1.82</td>\n",
              "      <td>2.29</td>\n",
              "    </tr>\n",
              "  </tbody>\n",
              "</table>\n",
              "</div>\n",
              "      <button class=\"colab-df-convert\" onclick=\"convertToInteractive('df-470b5217-9e33-4a27-86cb-9f2df9deaca0')\"\n",
              "              title=\"Convert this dataframe to an interactive table.\"\n",
              "              style=\"display:none;\">\n",
              "        \n",
              "  <svg xmlns=\"http://www.w3.org/2000/svg\" height=\"24px\"viewBox=\"0 0 24 24\"\n",
              "       width=\"24px\">\n",
              "    <path d=\"M0 0h24v24H0V0z\" fill=\"none\"/>\n",
              "    <path d=\"M18.56 5.44l.94 2.06.94-2.06 2.06-.94-2.06-.94-.94-2.06-.94 2.06-2.06.94zm-11 1L8.5 8.5l.94-2.06 2.06-.94-2.06-.94L8.5 2.5l-.94 2.06-2.06.94zm10 10l.94 2.06.94-2.06 2.06-.94-2.06-.94-.94-2.06-.94 2.06-2.06.94z\"/><path d=\"M17.41 7.96l-1.37-1.37c-.4-.4-.92-.59-1.43-.59-.52 0-1.04.2-1.43.59L10.3 9.45l-7.72 7.72c-.78.78-.78 2.05 0 2.83L4 21.41c.39.39.9.59 1.41.59.51 0 1.02-.2 1.41-.59l7.78-7.78 2.81-2.81c.8-.78.8-2.07 0-2.86zM5.41 20L4 18.59l7.72-7.72 1.47 1.35L5.41 20z\"/>\n",
              "  </svg>\n",
              "      </button>\n",
              "      \n",
              "  <style>\n",
              "    .colab-df-container {\n",
              "      display:flex;\n",
              "      flex-wrap:wrap;\n",
              "      gap: 12px;\n",
              "    }\n",
              "\n",
              "    .colab-df-convert {\n",
              "      background-color: #E8F0FE;\n",
              "      border: none;\n",
              "      border-radius: 50%;\n",
              "      cursor: pointer;\n",
              "      display: none;\n",
              "      fill: #1967D2;\n",
              "      height: 32px;\n",
              "      padding: 0 0 0 0;\n",
              "      width: 32px;\n",
              "    }\n",
              "\n",
              "    .colab-df-convert:hover {\n",
              "      background-color: #E2EBFA;\n",
              "      box-shadow: 0px 1px 2px rgba(60, 64, 67, 0.3), 0px 1px 3px 1px rgba(60, 64, 67, 0.15);\n",
              "      fill: #174EA6;\n",
              "    }\n",
              "\n",
              "    [theme=dark] .colab-df-convert {\n",
              "      background-color: #3B4455;\n",
              "      fill: #D2E3FC;\n",
              "    }\n",
              "\n",
              "    [theme=dark] .colab-df-convert:hover {\n",
              "      background-color: #434B5C;\n",
              "      box-shadow: 0px 1px 3px 1px rgba(0, 0, 0, 0.15);\n",
              "      filter: drop-shadow(0px 1px 2px rgba(0, 0, 0, 0.3));\n",
              "      fill: #FFFFFF;\n",
              "    }\n",
              "  </style>\n",
              "\n",
              "      <script>\n",
              "        const buttonEl =\n",
              "          document.querySelector('#df-470b5217-9e33-4a27-86cb-9f2df9deaca0 button.colab-df-convert');\n",
              "        buttonEl.style.display =\n",
              "          google.colab.kernel.accessAllowed ? 'block' : 'none';\n",
              "\n",
              "        async function convertToInteractive(key) {\n",
              "          const element = document.querySelector('#df-470b5217-9e33-4a27-86cb-9f2df9deaca0');\n",
              "          const dataTable =\n",
              "            await google.colab.kernel.invokeFunction('convertToInteractive',\n",
              "                                                     [key], {});\n",
              "          if (!dataTable) return;\n",
              "\n",
              "          const docLinkHtml = 'Like what you see? Visit the ' +\n",
              "            '<a target=\"_blank\" href=https://colab.research.google.com/notebooks/data_table.ipynb>data table notebook</a>'\n",
              "            + ' to learn more about interactive tables.';\n",
              "          element.innerHTML = '';\n",
              "          dataTable['output_type'] = 'display_data';\n",
              "          await google.colab.output.renderOutput(dataTable, element);\n",
              "          const docLink = document.createElement('div');\n",
              "          docLink.innerHTML = docLinkHtml;\n",
              "          element.appendChild(docLink);\n",
              "        }\n",
              "      </script>\n",
              "    </div>\n",
              "  </div>\n",
              "  "
            ]
          },
          "metadata": {},
          "execution_count": 7
        }
      ]
    },
    {
      "cell_type": "markdown",
      "source": [
        "4 y 5. Calcule los valores propios y vectores propios de la matriz de covarianza"
      ],
      "metadata": {
        "id": "CJnicdmXXfD9"
      }
    },
    {
      "cell_type": "code",
      "source": [
        "eigval, eigvec = np.linalg.eigh(MC, UPLO = 'U')\n",
        "order = np.argsort(eigval)[::-1]    # Orden de mayor a menor eigenvalor\n",
        "eigval, eigvec = eigval[order], eigvec[:,order]\n",
        "eigval, eigvec"
      ],
      "metadata": {
        "colab": {
          "base_uri": "https://localhost:8080/"
        },
        "id": "_zJFSp-fwFVG",
        "outputId": "730841aa-fbb9-47dc-f90e-a200e403e047"
      },
      "execution_count": null,
      "outputs": [
        {
          "output_type": "execute_result",
          "data": {
            "text/plain": [
              "(array([9.25987104, 4.52945601, 0.58663805, 0.23403489]),\n",
              " array([[ 0.06845631,  0.92872122, -0.23070763,  0.282072  ],\n",
              "        [ 0.73877112, -0.12684041, -0.60885692, -0.25965745],\n",
              "        [-0.53128096,  0.17514618, -0.36342233, -0.74497555],\n",
              "        [ 0.40898839,  0.30118469,  0.66632684, -0.5459165 ]]))"
            ]
          },
          "metadata": {},
          "execution_count": 62
        }
      ]
    },
    {
      "cell_type": "markdown",
      "source": [
        "6. Encuentre los Componentes principales\n",
        "\n",
        "$$𝑃𝐶_{(𝑘, 𝑖)} = \\sum_{𝑗=1}^{K} [𝑎𝑢𝑡𝑜𝑣𝑒𝑐𝑡𝑜𝑟_{(𝑘, 𝑗)} ∗ 𝑇_{(𝑗, 𝑖)}]$$\n"
      ],
      "metadata": {
        "id": "DtSO1xObXjBD"
      }
    },
    {
      "cell_type": "code",
      "source": [
        "def PC(Array, Eigvec):\n",
        "    N,M = Array.shape   # nrow, ncol = n° dims, n° vector\n",
        "    pc = np.zeros(shape = (N,M))\n",
        "    for k in range(M):\n",
        "        for j in range(N):\n",
        "            pc[j,k] = np.sum( np.transpose(eigvec[:,k]) * Array[j,:] )\n",
        "    return pc\n",
        "\n",
        "CPrincipales = PC(T.values, eigvec)"
      ],
      "metadata": {
        "id": "DPw3KN3_xSqt"
      },
      "execution_count": null,
      "outputs": []
    },
    {
      "cell_type": "code",
      "source": [
        "CPrincipales_df = pd.DataFrame(CPrincipales, columns = ['PC1','PC2','PC3','PC4'])\n",
        "CPrincipales_df"
      ],
      "metadata": {
        "colab": {
          "base_uri": "https://localhost:8080/",
          "height": 363
        },
        "id": "wCWEkjYdqPev",
        "outputId": "ac1e50c7-0428-47d8-c290-5ca58c0c6a74"
      },
      "execution_count": null,
      "outputs": [
        {
          "output_type": "execute_result",
          "data": {
            "text/plain": [
              "         PC1        PC2       PC3        PC4\n",
              "0   6.860356  15.308688 -6.768916 -22.153134\n",
              "1  12.378793  19.069473 -7.401349 -22.211274\n",
              "2  12.378793  19.069473 -7.401349 -22.211274\n",
              "3  14.387616  18.640646 -8.255640 -21.985614\n",
              "4  12.557043  14.450233 -8.056606 -21.762411\n",
              "5  12.764533  14.498538 -9.028886 -22.767044\n",
              "6   4.923860  19.199521 -8.476061 -21.709223\n",
              "7   6.658858  15.055810 -8.407522 -22.611851\n",
              "8   9.350495  18.643052 -9.518317 -21.803819\n",
              "9  11.409284  14.275888 -8.114076 -20.956837"
            ],
            "text/html": [
              "\n",
              "  <div id=\"df-8905c061-3778-4ec0-81d7-7c49d6bd8539\">\n",
              "    <div class=\"colab-df-container\">\n",
              "      <div>\n",
              "<style scoped>\n",
              "    .dataframe tbody tr th:only-of-type {\n",
              "        vertical-align: middle;\n",
              "    }\n",
              "\n",
              "    .dataframe tbody tr th {\n",
              "        vertical-align: top;\n",
              "    }\n",
              "\n",
              "    .dataframe thead th {\n",
              "        text-align: right;\n",
              "    }\n",
              "</style>\n",
              "<table border=\"1\" class=\"dataframe\">\n",
              "  <thead>\n",
              "    <tr style=\"text-align: right;\">\n",
              "      <th></th>\n",
              "      <th>PC1</th>\n",
              "      <th>PC2</th>\n",
              "      <th>PC3</th>\n",
              "      <th>PC4</th>\n",
              "    </tr>\n",
              "  </thead>\n",
              "  <tbody>\n",
              "    <tr>\n",
              "      <th>0</th>\n",
              "      <td>6.860356</td>\n",
              "      <td>15.308688</td>\n",
              "      <td>-6.768916</td>\n",
              "      <td>-22.153134</td>\n",
              "    </tr>\n",
              "    <tr>\n",
              "      <th>1</th>\n",
              "      <td>12.378793</td>\n",
              "      <td>19.069473</td>\n",
              "      <td>-7.401349</td>\n",
              "      <td>-22.211274</td>\n",
              "    </tr>\n",
              "    <tr>\n",
              "      <th>2</th>\n",
              "      <td>12.378793</td>\n",
              "      <td>19.069473</td>\n",
              "      <td>-7.401349</td>\n",
              "      <td>-22.211274</td>\n",
              "    </tr>\n",
              "    <tr>\n",
              "      <th>3</th>\n",
              "      <td>14.387616</td>\n",
              "      <td>18.640646</td>\n",
              "      <td>-8.255640</td>\n",
              "      <td>-21.985614</td>\n",
              "    </tr>\n",
              "    <tr>\n",
              "      <th>4</th>\n",
              "      <td>12.557043</td>\n",
              "      <td>14.450233</td>\n",
              "      <td>-8.056606</td>\n",
              "      <td>-21.762411</td>\n",
              "    </tr>\n",
              "    <tr>\n",
              "      <th>5</th>\n",
              "      <td>12.764533</td>\n",
              "      <td>14.498538</td>\n",
              "      <td>-9.028886</td>\n",
              "      <td>-22.767044</td>\n",
              "    </tr>\n",
              "    <tr>\n",
              "      <th>6</th>\n",
              "      <td>4.923860</td>\n",
              "      <td>19.199521</td>\n",
              "      <td>-8.476061</td>\n",
              "      <td>-21.709223</td>\n",
              "    </tr>\n",
              "    <tr>\n",
              "      <th>7</th>\n",
              "      <td>6.658858</td>\n",
              "      <td>15.055810</td>\n",
              "      <td>-8.407522</td>\n",
              "      <td>-22.611851</td>\n",
              "    </tr>\n",
              "    <tr>\n",
              "      <th>8</th>\n",
              "      <td>9.350495</td>\n",
              "      <td>18.643052</td>\n",
              "      <td>-9.518317</td>\n",
              "      <td>-21.803819</td>\n",
              "    </tr>\n",
              "    <tr>\n",
              "      <th>9</th>\n",
              "      <td>11.409284</td>\n",
              "      <td>14.275888</td>\n",
              "      <td>-8.114076</td>\n",
              "      <td>-20.956837</td>\n",
              "    </tr>\n",
              "  </tbody>\n",
              "</table>\n",
              "</div>\n",
              "      <button class=\"colab-df-convert\" onclick=\"convertToInteractive('df-8905c061-3778-4ec0-81d7-7c49d6bd8539')\"\n",
              "              title=\"Convert this dataframe to an interactive table.\"\n",
              "              style=\"display:none;\">\n",
              "        \n",
              "  <svg xmlns=\"http://www.w3.org/2000/svg\" height=\"24px\"viewBox=\"0 0 24 24\"\n",
              "       width=\"24px\">\n",
              "    <path d=\"M0 0h24v24H0V0z\" fill=\"none\"/>\n",
              "    <path d=\"M18.56 5.44l.94 2.06.94-2.06 2.06-.94-2.06-.94-.94-2.06-.94 2.06-2.06.94zm-11 1L8.5 8.5l.94-2.06 2.06-.94-2.06-.94L8.5 2.5l-.94 2.06-2.06.94zm10 10l.94 2.06.94-2.06 2.06-.94-2.06-.94-.94-2.06-.94 2.06-2.06.94z\"/><path d=\"M17.41 7.96l-1.37-1.37c-.4-.4-.92-.59-1.43-.59-.52 0-1.04.2-1.43.59L10.3 9.45l-7.72 7.72c-.78.78-.78 2.05 0 2.83L4 21.41c.39.39.9.59 1.41.59.51 0 1.02-.2 1.41-.59l7.78-7.78 2.81-2.81c.8-.78.8-2.07 0-2.86zM5.41 20L4 18.59l7.72-7.72 1.47 1.35L5.41 20z\"/>\n",
              "  </svg>\n",
              "      </button>\n",
              "      \n",
              "  <style>\n",
              "    .colab-df-container {\n",
              "      display:flex;\n",
              "      flex-wrap:wrap;\n",
              "      gap: 12px;\n",
              "    }\n",
              "\n",
              "    .colab-df-convert {\n",
              "      background-color: #E8F0FE;\n",
              "      border: none;\n",
              "      border-radius: 50%;\n",
              "      cursor: pointer;\n",
              "      display: none;\n",
              "      fill: #1967D2;\n",
              "      height: 32px;\n",
              "      padding: 0 0 0 0;\n",
              "      width: 32px;\n",
              "    }\n",
              "\n",
              "    .colab-df-convert:hover {\n",
              "      background-color: #E2EBFA;\n",
              "      box-shadow: 0px 1px 2px rgba(60, 64, 67, 0.3), 0px 1px 3px 1px rgba(60, 64, 67, 0.15);\n",
              "      fill: #174EA6;\n",
              "    }\n",
              "\n",
              "    [theme=dark] .colab-df-convert {\n",
              "      background-color: #3B4455;\n",
              "      fill: #D2E3FC;\n",
              "    }\n",
              "\n",
              "    [theme=dark] .colab-df-convert:hover {\n",
              "      background-color: #434B5C;\n",
              "      box-shadow: 0px 1px 3px 1px rgba(0, 0, 0, 0.15);\n",
              "      filter: drop-shadow(0px 1px 2px rgba(0, 0, 0, 0.3));\n",
              "      fill: #FFFFFF;\n",
              "    }\n",
              "  </style>\n",
              "\n",
              "      <script>\n",
              "        const buttonEl =\n",
              "          document.querySelector('#df-8905c061-3778-4ec0-81d7-7c49d6bd8539 button.colab-df-convert');\n",
              "        buttonEl.style.display =\n",
              "          google.colab.kernel.accessAllowed ? 'block' : 'none';\n",
              "\n",
              "        async function convertToInteractive(key) {\n",
              "          const element = document.querySelector('#df-8905c061-3778-4ec0-81d7-7c49d6bd8539');\n",
              "          const dataTable =\n",
              "            await google.colab.kernel.invokeFunction('convertToInteractive',\n",
              "                                                     [key], {});\n",
              "          if (!dataTable) return;\n",
              "\n",
              "          const docLinkHtml = 'Like what you see? Visit the ' +\n",
              "            '<a target=\"_blank\" href=https://colab.research.google.com/notebooks/data_table.ipynb>data table notebook</a>'\n",
              "            + ' to learn more about interactive tables.';\n",
              "          element.innerHTML = '';\n",
              "          dataTable['output_type'] = 'display_data';\n",
              "          await google.colab.output.renderOutput(dataTable, element);\n",
              "          const docLink = document.createElement('div');\n",
              "          docLink.innerHTML = docLinkHtml;\n",
              "          element.appendChild(docLink);\n",
              "        }\n",
              "      </script>\n",
              "    </div>\n",
              "  </div>\n",
              "  "
            ]
          },
          "metadata": {},
          "execution_count": 64
        }
      ]
    },
    {
      "cell_type": "markdown",
      "source": [
        "7. Grafique los componentes principales"
      ],
      "metadata": {
        "id": "EXihnYJFqI0d"
      }
    },
    {
      "cell_type": "code",
      "source": [
        "fig, ax = plt.subplots(figsize = (16,4))\n",
        "CPrincipales_df.plot(ax = ax, style = 'o-', xticks = range(10), ylim = (-25,25))\n",
        "ax.yaxis.grid(ls = '--', lw = 1, color = '#BBBBBB', zorder = 1)\n",
        "ax.xaxis.grid(ls = '--', lw = 0.5, color = '#BBBBBB', zorder = 1)\n",
        "ax.tick_params('both', length = 7, width = 1.25, labelsize = 18)\n",
        "\n",
        "sns.move_legend(ax, loc='upper right')\n",
        "plt.legend(ncol=4)\n",
        "plt.setp(ax.get_legend().get_texts(), fontsize='18')\n",
        "\n",
        "plt.subplots_adjust(bottom = 0.1, top = 0.9, left = 0.1, right = 0.9, wspace = 0., hspace = 0.)\n",
        "\n",
        "fig.savefig(path + 'E7_T CPrincipales.png', transparent = False, \n",
        "            pad_inches = 0.1, dpi = 400, bbox_inches = 'tight')"
      ],
      "metadata": {
        "colab": {
          "base_uri": "https://localhost:8080/",
          "height": 241
        },
        "id": "gXB9Vv5tqHP_",
        "outputId": "85174eb8-2d46-4308-b1b6-7b24e329a480"
      },
      "execution_count": null,
      "outputs": [
        {
          "output_type": "display_data",
          "data": {
            "text/plain": [
              "<Figure size 1152x288 with 1 Axes>"
            ],
            "image/png": "[encoded data removed]"
          },
          "metadata": {}
        }
      ]
    },
    {
      "cell_type": "markdown",
      "source": [
        "8. ¿Qué porcentaje de la varianza total de los datos es explicada por el PC1 y PC2?"
      ],
      "metadata": {
        "id": "66YzsExaX_fS"
      }
    },
    {
      "cell_type": "code",
      "source": [
        "sum_eigval = np.sum(eigval)\n",
        "var_explicada = np.array([ev * 100 / sum_eigval for ev in eigval])\n",
        "var_explicada"
      ],
      "metadata": {
        "colab": {
          "base_uri": "https://localhost:8080/"
        },
        "id": "BhomW9ADqyWa",
        "outputId": "bde14116-433c-47e4-ce47-d878d957d9cf"
      },
      "execution_count": null,
      "outputs": [
        {
          "output_type": "execute_result",
          "data": {
            "text/plain": [
              "array([63.38036304, 31.00243678,  4.01531863,  1.60188155])"
            ]
          },
          "metadata": {},
          "execution_count": 74
        }
      ]
    },
    {
      "cell_type": "code",
      "source": [
        "# plt.style.use('default')\n",
        "plt.style.use('seaborn-whitegrid')\n",
        "\n",
        "fig,ax = plt.subplots(figsize = (5,5))\n",
        "ax.bar(x = ['PC1','PC2','PC3','PC4'], height = var_explicada)\n",
        "\n",
        "plt.subplots_adjust(bottom = 0.1, top = 0.9, left = 0.1, right = 0.9, wspace = 0., hspace = 0.)\n",
        "fig.savefig(path + 'E8_T CP_var.png', transparent = False, \n",
        "            pad_inches = 0.1, dpi = 400, bbox_inches = 'tight')"
      ],
      "metadata": {
        "colab": {
          "base_uri": "https://localhost:8080/",
          "height": 336
        },
        "id": "FTC05a_jrC5c",
        "outputId": "9cc3c7fd-9284-474d-c3f2-d75d368ce266"
      },
      "execution_count": null,
      "outputs": [
        {
          "output_type": "display_data",
          "data": {
            "text/plain": [
              "<Figure size 360x360 with 1 Axes>"
            ],
            "image/png": "[encoded data removed]"
          },
          "metadata": {}
        }
      ]
    },
    {
      "cell_type": "markdown",
      "source": [
        "9. Reconstruya las series de Temperatura, empleando la PC1 y la PC2. Siendo PC1 el\n",
        "que explica la mayor varianza de los datos y PC2 el que le sigue\n",
        "$$𝑇𝑘_{(𝑗, 𝑖)} = 𝑎𝑢𝑡𝑜𝑣𝑒𝑐𝑡𝑜𝑟_{(𝑘, 𝑗)} ∗ 𝑃𝐶_{(𝑘, 𝑖)}$$\n"
      ],
      "metadata": {
        "id": "I1zVpjCOYCpB"
      }
    },
    {
      "cell_type": "code",
      "source": [
        "def Sintesis(Array, Eigvec, CP_matrix, cp):\n",
        "    N,M = Array.shape\n",
        "    R = np.zeros_like(Array, dtype = float)\n",
        "    for j in range(M):\n",
        "        for i in range(N):\n",
        "            R[i,j] = Eigvec[j,cp-1] * CP_matrix[i,cp-1]\n",
        "    return R\n",
        "\n",
        "Tr_1 = Sintesis(T.values, eigvec, CPrincipales, 1)\n",
        "Tr_2 = Sintesis(T.values, eigvec, CPrincipales, 2)\n",
        "Tr_1"
      ],
      "metadata": {
        "colab": {
          "base_uri": "https://localhost:8080/"
        },
        "id": "6eoxbjXuwbBY",
        "outputId": "36a4d707-2224-474b-b457-cf40d5c4bfd0"
      },
      "execution_count": null,
      "outputs": [
        {
          "output_type": "execute_result",
          "data": {
            "text/plain": [
              "array([[ 0.46963466,  5.06823306, -3.64477663,  2.805806  ],\n",
              "       [ 0.84740647,  9.14509483, -6.57661704,  5.06278256],\n",
              "       [ 0.84740647,  9.14509483, -6.57661704,  5.06278256],\n",
              "       [ 0.98492309, 10.62915541, -7.64386657,  5.88436792],\n",
              "       [ 0.85960882,  9.27678084, -6.67131792,  5.13568477],\n",
              "       [ 0.87381283,  9.43006858, -6.78155349,  5.22054584],\n",
              "       [ 0.33706928,  3.63760558, -2.61595307,  2.01380155],\n",
              "       [ 0.45584084,  4.91937199, -3.53772446,  2.72339557],\n",
              "       [ 0.64010036,  6.90787556, -4.96773986,  3.82424377],\n",
              "       [ 0.78103744,  8.42884925, -6.06153514,  4.66626447]])"
            ]
          },
          "metadata": {},
          "execution_count": 79
        }
      ]
    },
    {
      "cell_type": "code",
      "source": [
        "Tr_1_df = pd.DataFrame(Tr_1, T.index, T.columns)\n",
        "Tr_2_df = pd.DataFrame(Tr_2, T.index, T.columns)\n",
        "Tr_1_df"
      ],
      "metadata": {
        "colab": {
          "base_uri": "https://localhost:8080/",
          "height": 363
        },
        "id": "ezOUJiia1Esw",
        "outputId": "03b3d9b9-1e92-400e-be5d-a5548f36ed6a"
      },
      "execution_count": null,
      "outputs": [
        {
          "output_type": "execute_result",
          "data": {
            "text/plain": [
              "          NO         NE        SO        SE\n",
              "1   0.469635   5.068233 -3.644777  2.805806\n",
              "2   0.847406   9.145095 -6.576617  5.062783\n",
              "3   0.847406   9.145095 -6.576617  5.062783\n",
              "4   0.984923  10.629155 -7.643867  5.884368\n",
              "5   0.859609   9.276781 -6.671318  5.135685\n",
              "6   0.873813   9.430069 -6.781553  5.220546\n",
              "7   0.337069   3.637606 -2.615953  2.013802\n",
              "8   0.455841   4.919372 -3.537724  2.723396\n",
              "9   0.640100   6.907876 -4.967740  3.824244\n",
              "10  0.781037   8.428849 -6.061535  4.666264"
            ],
            "text/html": [
              "\n",
              "  <div id=\"df-747138e4-289f-4452-9010-4b9af6ff5a51\">\n",
              "    <div class=\"colab-df-container\">\n",
              "      <div>\n",
              "<style scoped>\n",
              "    .dataframe tbody tr th:only-of-type {\n",
              "        vertical-align: middle;\n",
              "    }\n",
              "\n",
              "    .dataframe tbody tr th {\n",
              "        vertical-align: top;\n",
              "    }\n",
              "\n",
              "    .dataframe thead th {\n",
              "        text-align: right;\n",
              "    }\n",
              "</style>\n",
              "<table border=\"1\" class=\"dataframe\">\n",
              "  <thead>\n",
              "    <tr style=\"text-align: right;\">\n",
              "      <th></th>\n",
              "      <th>NO</th>\n",
              "      <th>NE</th>\n",
              "      <th>SO</th>\n",
              "      <th>SE</th>\n",
              "    </tr>\n",
              "  </thead>\n",
              "  <tbody>\n",
              "    <tr>\n",
              "      <th>1</th>\n",
              "      <td>0.469635</td>\n",
              "      <td>5.068233</td>\n",
              "      <td>-3.644777</td>\n",
              "      <td>2.805806</td>\n",
              "    </tr>\n",
              "    <tr>\n",
              "      <th>2</th>\n",
              "      <td>0.847406</td>\n",
              "      <td>9.145095</td>\n",
              "      <td>-6.576617</td>\n",
              "      <td>5.062783</td>\n",
              "    </tr>\n",
              "    <tr>\n",
              "      <th>3</th>\n",
              "      <td>0.847406</td>\n",
              "      <td>9.145095</td>\n",
              "      <td>-6.576617</td>\n",
              "      <td>5.062783</td>\n",
              "    </tr>\n",
              "    <tr>\n",
              "      <th>4</th>\n",
              "      <td>0.984923</td>\n",
              "      <td>10.629155</td>\n",
              "      <td>-7.643867</td>\n",
              "      <td>5.884368</td>\n",
              "    </tr>\n",
              "    <tr>\n",
              "      <th>5</th>\n",
              "      <td>0.859609</td>\n",
              "      <td>9.276781</td>\n",
              "      <td>-6.671318</td>\n",
              "      <td>5.135685</td>\n",
              "    </tr>\n",
              "    <tr>\n",
              "      <th>6</th>\n",
              "      <td>0.873813</td>\n",
              "      <td>9.430069</td>\n",
              "      <td>-6.781553</td>\n",
              "      <td>5.220546</td>\n",
              "    </tr>\n",
              "    <tr>\n",
              "      <th>7</th>\n",
              "      <td>0.337069</td>\n",
              "      <td>3.637606</td>\n",
              "      <td>-2.615953</td>\n",
              "      <td>2.013802</td>\n",
              "    </tr>\n",
              "    <tr>\n",
              "      <th>8</th>\n",
              "      <td>0.455841</td>\n",
              "      <td>4.919372</td>\n",
              "      <td>-3.537724</td>\n",
              "      <td>2.723396</td>\n",
              "    </tr>\n",
              "    <tr>\n",
              "      <th>9</th>\n",
              "      <td>0.640100</td>\n",
              "      <td>6.907876</td>\n",
              "      <td>-4.967740</td>\n",
              "      <td>3.824244</td>\n",
              "    </tr>\n",
              "    <tr>\n",
              "      <th>10</th>\n",
              "      <td>0.781037</td>\n",
              "      <td>8.428849</td>\n",
              "      <td>-6.061535</td>\n",
              "      <td>4.666264</td>\n",
              "    </tr>\n",
              "  </tbody>\n",
              "</table>\n",
              "</div>\n",
              "      <button class=\"colab-df-convert\" onclick=\"convertToInteractive('df-747138e4-289f-4452-9010-4b9af6ff5a51')\"\n",
              "              title=\"Convert this dataframe to an interactive table.\"\n",
              "              style=\"display:none;\">\n",
              "        \n",
              "  <svg xmlns=\"http://www.w3.org/2000/svg\" height=\"24px\"viewBox=\"0 0 24 24\"\n",
              "       width=\"24px\">\n",
              "    <path d=\"M0 0h24v24H0V0z\" fill=\"none\"/>\n",
              "    <path d=\"M18.56 5.44l.94 2.06.94-2.06 2.06-.94-2.06-.94-.94-2.06-.94 2.06-2.06.94zm-11 1L8.5 8.5l.94-2.06 2.06-.94-2.06-.94L8.5 2.5l-.94 2.06-2.06.94zm10 10l.94 2.06.94-2.06 2.06-.94-2.06-.94-.94-2.06-.94 2.06-2.06.94z\"/><path d=\"M17.41 7.96l-1.37-1.37c-.4-.4-.92-.59-1.43-.59-.52 0-1.04.2-1.43.59L10.3 9.45l-7.72 7.72c-.78.78-.78 2.05 0 2.83L4 21.41c.39.39.9.59 1.41.59.51 0 1.02-.2 1.41-.59l7.78-7.78 2.81-2.81c.8-.78.8-2.07 0-2.86zM5.41 20L4 18.59l7.72-7.72 1.47 1.35L5.41 20z\"/>\n",
              "  </svg>\n",
              "      </button>\n",
              "      \n",
              "  <style>\n",
              "    .colab-df-container {\n",
              "      display:flex;\n",
              "      flex-wrap:wrap;\n",
              "      gap: 12px;\n",
              "    }\n",
              "\n",
              "    .colab-df-convert {\n",
              "      background-color: #E8F0FE;\n",
              "      border: none;\n",
              "      border-radius: 50%;\n",
              "      cursor: pointer;\n",
              "      display: none;\n",
              "      fill: #1967D2;\n",
              "      height: 32px;\n",
              "      padding: 0 0 0 0;\n",
              "      width: 32px;\n",
              "    }\n",
              "\n",
              "    .colab-df-convert:hover {\n",
              "      background-color: #E2EBFA;\n",
              "      box-shadow: 0px 1px 2px rgba(60, 64, 67, 0.3), 0px 1px 3px 1px rgba(60, 64, 67, 0.15);\n",
              "      fill: #174EA6;\n",
              "    }\n",
              "\n",
              "    [theme=dark] .colab-df-convert {\n",
              "      background-color: #3B4455;\n",
              "      fill: #D2E3FC;\n",
              "    }\n",
              "\n",
              "    [theme=dark] .colab-df-convert:hover {\n",
              "      background-color: #434B5C;\n",
              "      box-shadow: 0px 1px 3px 1px rgba(0, 0, 0, 0.15);\n",
              "      filter: drop-shadow(0px 1px 2px rgba(0, 0, 0, 0.3));\n",
              "      fill: #FFFFFF;\n",
              "    }\n",
              "  </style>\n",
              "\n",
              "      <script>\n",
              "        const buttonEl =\n",
              "          document.querySelector('#df-747138e4-289f-4452-9010-4b9af6ff5a51 button.colab-df-convert');\n",
              "        buttonEl.style.display =\n",
              "          google.colab.kernel.accessAllowed ? 'block' : 'none';\n",
              "\n",
              "        async function convertToInteractive(key) {\n",
              "          const element = document.querySelector('#df-747138e4-289f-4452-9010-4b9af6ff5a51');\n",
              "          const dataTable =\n",
              "            await google.colab.kernel.invokeFunction('convertToInteractive',\n",
              "                                                     [key], {});\n",
              "          if (!dataTable) return;\n",
              "\n",
              "          const docLinkHtml = 'Like what you see? Visit the ' +\n",
              "            '<a target=\"_blank\" href=https://colab.research.google.com/notebooks/data_table.ipynb>data table notebook</a>'\n",
              "            + ' to learn more about interactive tables.';\n",
              "          element.innerHTML = '';\n",
              "          dataTable['output_type'] = 'display_data';\n",
              "          await google.colab.output.renderOutput(dataTable, element);\n",
              "          const docLink = document.createElement('div');\n",
              "          docLink.innerHTML = docLinkHtml;\n",
              "          element.appendChild(docLink);\n",
              "        }\n",
              "      </script>\n",
              "    </div>\n",
              "  </div>\n",
              "  "
            ]
          },
          "metadata": {},
          "execution_count": 82
        }
      ]
    },
    {
      "cell_type": "markdown",
      "source": [
        "10. Grafique las series reconstruidas y analice las diferencias entre ambos resultados"
      ],
      "metadata": {
        "id": "44SjcV6jYQV7"
      }
    },
    {
      "cell_type": "code",
      "source": [
        "fig, ax = plt.subplots(figsize = (16,4))\n",
        "Tr_1_df.plot(ax = ax, style = 'o-', xticks = range(1,10+1), ylim = (-10,12))\n",
        "ax.yaxis.grid(ls = '--', lw = 1, color = '#BBBBBB', zorder = 1)\n",
        "ax.xaxis.grid(ls = '--', lw = 0.5, color = '#BBBBBB', zorder = 1)\n",
        "ax.tick_params('both', length = 7, width = 1.25, labelsize = 18)\n",
        "\n",
        "sns.move_legend(ax, loc='upper right')\n",
        "plt.legend(ncol=4)\n",
        "plt.setp(ax.get_legend().get_texts(), fontsize='18')\n",
        "ax.set_title('Reconstrucción 1', fontsize = 24)\n",
        "\n",
        "plt.subplots_adjust(bottom = 0.1, top = 0.9, left = 0.1, right = 0.9, wspace = 0., hspace = 0.)\n",
        "\n",
        "fig.savefig(path + 'E10_T Tr1.png', transparent = False, \n",
        "            pad_inches = 0.1, dpi = 400, bbox_inches = 'tight')"
      ],
      "metadata": {
        "colab": {
          "base_uri": "https://localhost:8080/",
          "height": 260
        },
        "id": "s5PNUe-S0z_N",
        "outputId": "79580251-9f8a-48b4-f58a-1969c7b71e26"
      },
      "execution_count": null,
      "outputs": [
        {
          "output_type": "display_data",
          "data": {
            "text/plain": [
              "<Figure size 1152x288 with 1 Axes>"
            ],
            "image/png": "[encoded data removed]"
          },
          "metadata": {}
        }
      ]
    },
    {
      "cell_type": "code",
      "source": [
        "fig, ax = plt.subplots(figsize = (16,4))\n",
        "Tr_2_df.plot(ax = ax, style = 'o-', xticks = range(1,10+1), ylim = (-5,20))\n",
        "ax.yaxis.grid(ls = '--', lw = 1, color = '#BBBBBB', zorder = 1)\n",
        "ax.xaxis.grid(ls = '--', lw = 0.5, color = '#BBBBBB', zorder = 1)\n",
        "ax.tick_params('both', length = 7, width = 1.25, labelsize = 18)\n",
        "\n",
        "sns.move_legend(ax, loc='upper right')\n",
        "plt.legend(ncol=4)\n",
        "plt.setp(ax.get_legend().get_texts(), fontsize='18')\n",
        "ax.set_title('Reconstrucción 2', fontsize = 24)\n",
        "\n",
        "plt.subplots_adjust(bottom = 0.1, top = 0.9, left = 0.1, right = 0.9, wspace = 0., hspace = 0.)\n",
        "\n",
        "fig.savefig(path + 'E10_T Tr2.png', transparent = False, \n",
        "            pad_inches = 0.1, dpi = 400, bbox_inches = 'tight')"
      ],
      "metadata": {
        "colab": {
          "base_uri": "https://localhost:8080/",
          "height": 263
        },
        "id": "rVPNDbpxsVb-",
        "outputId": "a844b355-68ba-44f3-bf13-94a6e0e672ca"
      },
      "execution_count": null,
      "outputs": [
        {
          "output_type": "display_data",
          "data": {
            "text/plain": [
              "<Figure size 1152x288 with 1 Axes>"
            ],
            "image/png": "[encoded data removed]"
          },
          "metadata": {}
        }
      ]
    },
    {
      "cell_type": "code",
      "source": [
        "\"\"\" Código en Scilab in cloud (https://cloud.scilab.in/)\n",
        "//Rpta 1:\n",
        "T=[10 13 18 15;14 17 16 18;14 17 16 18;14 19 15 18;10 18 15 16;10 19 16 16;14 12 20 14;10 14 19 14;14 16 18 15;10 17 15 15]\n",
        "\n",
        "// Rpta 2:\n",
        "Tp=mean(T,'r')\n",
        "A=zeros (10,4)\n",
        "for i=1:10\n",
        "\tA(i,:)=T(i,:)-Tp\n",
        "\tend\n",
        "    \n",
        "// Rpta 3:\n",
        "function [covariN]=covari(A,j)\n",
        "\t//N=size(A)(1)  // Esta parte debería dar 10, pero da 2 ¿error?\n",
        "    N = 10\n",
        "\tcovariN = zeros(j,j)\n",
        "    for ifor= 1:j\n",
        "\t\tfor jfor= 1:j\n",
        "\t\t\tcovariN(ifor ,jfor)=(1/N)*sum(A(:,ifor).*A(:,jfor))\n",
        "\t\tend\n",
        "\tend\n",
        "endfunction\n",
        "\n",
        "MC= covari(A,4) // 4 porq son 4 estaciones\n",
        "tMC=trace(MC)\n",
        "\n",
        "//\tDemostración del error\n",
        "//function [N]=NA(A)\n",
        "//\tN = size(A)(1)\t// Da 2\n",
        "//endfunction\n",
        "//NA(A)\n",
        "\n",
        "[vec,val] = spec(MC)\n",
        "valvec=gsort([diag(val)';vec], \"lc\", \"d\") // De mayor a menor de acuerdo a autovalores\n",
        "autoval=valvec (1,:)\n",
        "autovec=valvec (2:5 ,:)\n",
        "\n",
        "function [PC]=pc(i,k,autov)\n",
        "\tPC= zeros(i,k)\n",
        "\tfor ik= 1:k\n",
        "\t\tfor ii= 1:i\n",
        "\t\t\t//disp(ik)\n",
        "            //disp(ii)\n",
        "            PC(ii,ik)=sum(autov(:,ik)'.*T(ii ,:))\n",
        "\t\tend\n",
        "\tend\n",
        "endfunction\n",
        "\n",
        "pc_all=pc(10,4, autovec)\n",
        "            \n",
        "PC1=autoval (:,1)*100/ sum(autoval)\n",
        "PC2=autoval (:,2)*100/ sum(autoval)\n",
        "PC3=autoval (:,3)*100/ sum(autoval)\n",
        "PC4=autoval (:,4)*100/ sum(autoval)\n",
        "\n",
        "//plot(pc_all (:,1),'r' )\n",
        "//plot(pc_all (:,2),'g')\n",
        "//plot(pc_all (:,3),'b')\n",
        "//plot(pc_all (:,4),'k')\n",
        "//ylabel('T (C)')\n",
        "//legend('patron 1','patron 2','patron 3','patron 4')\n",
        "\n",
        "function [Tr]= sintesis(Npc ,i,j)\n",
        "  Tr=zeros(i,j)\n",
        "  for nj=1:j\n",
        "      for ni=1:i\n",
        "          Tr(ni,nj) =autovec(nj,Npc).*pc_all(ni,Npc)\n",
        "      end\n",
        "  end\n",
        "endfunction\n",
        "\n",
        "Tr1=sintesis (1,10,4) \n",
        "\"\"\""
      ],
      "metadata": {
        "id": "lORHrpu79n4O"
      },
      "execution_count": null,
      "outputs": []
    }
  ]
}